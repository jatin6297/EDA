{
 "cells": [
  {
   "cell_type": "markdown",
   "id": "75f83e2a",
   "metadata": {},
   "source": [
    "# Exploring Data\n",
    "This Notebook is intended to explore any dataset before building a model on the data. This notebook can be modified to explore any dataset. "
   ]
  },
  {
   "cell_type": "markdown",
   "id": "c2491511",
   "metadata": {},
   "source": [
    "### Set Up"
   ]
  },
  {
   "cell_type": "code",
   "execution_count": 19,
   "id": "ccfdb3e1",
   "metadata": {},
   "outputs": [],
   "source": [
    "#Common Imports \n",
    "import os\n",
    "import pandas as pd \n",
    "# To plot pretty figures\n",
    "%matplotlib inline\n",
    "import matplotlib as mpl\n",
    "import matplotlib.pyplot as plt\n",
    "mpl.rc('axes', labelsize=14)\n",
    "mpl.rc('xtick', labelsize=12)\n",
    "mpl.rc('ytick', labelsize=12)"
   ]
  },
  {
   "cell_type": "markdown",
   "id": "38da2efc",
   "metadata": {},
   "source": [
    "### Setting Directory"
   ]
  },
  {
   "cell_type": "code",
   "execution_count": 2,
   "id": "e2664b27",
   "metadata": {},
   "outputs": [],
   "source": [
    "#Change this to the location where you have the data in system \n",
    "working_dir=\"D://Jatin//Projects//datasets\"\n",
    "os.chdir(working_dir)"
   ]
  },
  {
   "cell_type": "markdown",
   "id": "c511422f",
   "metadata": {},
   "source": [
    "### Get The Data"
   ]
  },
  {
   "cell_type": "code",
   "execution_count": 4,
   "id": "ece15b93",
   "metadata": {},
   "outputs": [
    {
     "data": {
      "text/html": [
       "<div>\n",
       "<style scoped>\n",
       "    .dataframe tbody tr th:only-of-type {\n",
       "        vertical-align: middle;\n",
       "    }\n",
       "\n",
       "    .dataframe tbody tr th {\n",
       "        vertical-align: top;\n",
       "    }\n",
       "\n",
       "    .dataframe thead th {\n",
       "        text-align: right;\n",
       "    }\n",
       "</style>\n",
       "<table border=\"1\" class=\"dataframe\">\n",
       "  <thead>\n",
       "    <tr style=\"text-align: right;\">\n",
       "      <th></th>\n",
       "      <th>age</th>\n",
       "      <th>sex</th>\n",
       "      <th>bmi</th>\n",
       "      <th>children</th>\n",
       "      <th>smoker</th>\n",
       "      <th>region</th>\n",
       "      <th>charges</th>\n",
       "    </tr>\n",
       "  </thead>\n",
       "  <tbody>\n",
       "    <tr>\n",
       "      <th>0</th>\n",
       "      <td>19</td>\n",
       "      <td>female</td>\n",
       "      <td>27.900</td>\n",
       "      <td>0</td>\n",
       "      <td>yes</td>\n",
       "      <td>southwest</td>\n",
       "      <td>16884.92400</td>\n",
       "    </tr>\n",
       "    <tr>\n",
       "      <th>1</th>\n",
       "      <td>18</td>\n",
       "      <td>male</td>\n",
       "      <td>33.770</td>\n",
       "      <td>1</td>\n",
       "      <td>no</td>\n",
       "      <td>southeast</td>\n",
       "      <td>1725.55230</td>\n",
       "    </tr>\n",
       "    <tr>\n",
       "      <th>2</th>\n",
       "      <td>28</td>\n",
       "      <td>male</td>\n",
       "      <td>33.000</td>\n",
       "      <td>3</td>\n",
       "      <td>no</td>\n",
       "      <td>southeast</td>\n",
       "      <td>4449.46200</td>\n",
       "    </tr>\n",
       "    <tr>\n",
       "      <th>3</th>\n",
       "      <td>33</td>\n",
       "      <td>male</td>\n",
       "      <td>22.705</td>\n",
       "      <td>0</td>\n",
       "      <td>no</td>\n",
       "      <td>northwest</td>\n",
       "      <td>21984.47061</td>\n",
       "    </tr>\n",
       "    <tr>\n",
       "      <th>4</th>\n",
       "      <td>32</td>\n",
       "      <td>male</td>\n",
       "      <td>28.880</td>\n",
       "      <td>0</td>\n",
       "      <td>no</td>\n",
       "      <td>northwest</td>\n",
       "      <td>3866.85520</td>\n",
       "    </tr>\n",
       "  </tbody>\n",
       "</table>\n",
       "</div>"
      ],
      "text/plain": [
       "   age     sex     bmi  children smoker     region      charges\n",
       "0   19  female  27.900         0    yes  southwest  16884.92400\n",
       "1   18    male  33.770         1     no  southeast   1725.55230\n",
       "2   28    male  33.000         3     no  southeast   4449.46200\n",
       "3   33    male  22.705         0     no  northwest  21984.47061\n",
       "4   32    male  28.880         0     no  northwest   3866.85520"
      ]
     },
     "execution_count": 4,
     "metadata": {},
     "output_type": "execute_result"
    }
   ],
   "source": [
    "df_data = pd.read_csv('insurance.csv',delimiter=',',header='infer')\n",
    "df_data.head()"
   ]
  },
  {
   "cell_type": "markdown",
   "id": "c511422f",
   "metadata": {},
   "source": [
    "### Checking For Null Values"
   ]
  },
  {
   "cell_type": "code",
   "execution_count": 6,
   "id": "3d43cd2a",
   "metadata": {},
   "outputs": [
    {
     "data": {
      "text/plain": [
       "age         0\n",
       "sex         0\n",
       "bmi         0\n",
       "children    0\n",
       "smoker      0\n",
       "region      0\n",
       "charges     0\n",
       "dtype: int64"
      ]
     },
     "execution_count": 6,
     "metadata": {},
     "output_type": "execute_result"
    }
   ],
   "source": [
    "df_data.isnull().sum()"
   ]
  },
  {
   "cell_type": "markdown",
   "id": "0bbb591e",
   "metadata": {},
   "source": [
    "If Null values are found, treat the null values using following methods:\n",
    "- Imputing with average, mode or median using fillna method\n",
    "- Dropping the records using dropna method"
   ]
  },
  {
   "cell_type": "markdown",
   "id": "393bbb75",
   "metadata": {},
   "source": [
    "### Sense-Check\n",
    "Overall statistics of data to get a sense on data distribution"
   ]
  },
  {
   "cell_type": "code",
   "execution_count": 8,
   "id": "fcc82459",
   "metadata": {},
   "outputs": [
    {
     "data": {
      "text/html": [
       "<div>\n",
       "<style scoped>\n",
       "    .dataframe tbody tr th:only-of-type {\n",
       "        vertical-align: middle;\n",
       "    }\n",
       "\n",
       "    .dataframe tbody tr th {\n",
       "        vertical-align: top;\n",
       "    }\n",
       "\n",
       "    .dataframe thead th {\n",
       "        text-align: right;\n",
       "    }\n",
       "</style>\n",
       "<table border=\"1\" class=\"dataframe\">\n",
       "  <thead>\n",
       "    <tr style=\"text-align: right;\">\n",
       "      <th></th>\n",
       "      <th>age</th>\n",
       "      <th>bmi</th>\n",
       "      <th>children</th>\n",
       "      <th>charges</th>\n",
       "    </tr>\n",
       "  </thead>\n",
       "  <tbody>\n",
       "    <tr>\n",
       "      <th>count</th>\n",
       "      <td>1338.000000</td>\n",
       "      <td>1338.000000</td>\n",
       "      <td>1338.000000</td>\n",
       "      <td>1338.000000</td>\n",
       "    </tr>\n",
       "    <tr>\n",
       "      <th>mean</th>\n",
       "      <td>39.207025</td>\n",
       "      <td>30.663397</td>\n",
       "      <td>1.094918</td>\n",
       "      <td>13270.422265</td>\n",
       "    </tr>\n",
       "    <tr>\n",
       "      <th>std</th>\n",
       "      <td>14.049960</td>\n",
       "      <td>6.098187</td>\n",
       "      <td>1.205493</td>\n",
       "      <td>12110.011237</td>\n",
       "    </tr>\n",
       "    <tr>\n",
       "      <th>min</th>\n",
       "      <td>18.000000</td>\n",
       "      <td>15.960000</td>\n",
       "      <td>0.000000</td>\n",
       "      <td>1121.873900</td>\n",
       "    </tr>\n",
       "    <tr>\n",
       "      <th>25%</th>\n",
       "      <td>27.000000</td>\n",
       "      <td>26.296250</td>\n",
       "      <td>0.000000</td>\n",
       "      <td>4740.287150</td>\n",
       "    </tr>\n",
       "    <tr>\n",
       "      <th>50%</th>\n",
       "      <td>39.000000</td>\n",
       "      <td>30.400000</td>\n",
       "      <td>1.000000</td>\n",
       "      <td>9382.033000</td>\n",
       "    </tr>\n",
       "    <tr>\n",
       "      <th>75%</th>\n",
       "      <td>51.000000</td>\n",
       "      <td>34.693750</td>\n",
       "      <td>2.000000</td>\n",
       "      <td>16639.912515</td>\n",
       "    </tr>\n",
       "    <tr>\n",
       "      <th>max</th>\n",
       "      <td>64.000000</td>\n",
       "      <td>53.130000</td>\n",
       "      <td>5.000000</td>\n",
       "      <td>63770.428010</td>\n",
       "    </tr>\n",
       "  </tbody>\n",
       "</table>\n",
       "</div>"
      ],
      "text/plain": [
       "               age          bmi     children       charges\n",
       "count  1338.000000  1338.000000  1338.000000   1338.000000\n",
       "mean     39.207025    30.663397     1.094918  13270.422265\n",
       "std      14.049960     6.098187     1.205493  12110.011237\n",
       "min      18.000000    15.960000     0.000000   1121.873900\n",
       "25%      27.000000    26.296250     0.000000   4740.287150\n",
       "50%      39.000000    30.400000     1.000000   9382.033000\n",
       "75%      51.000000    34.693750     2.000000  16639.912515\n",
       "max      64.000000    53.130000     5.000000  63770.428010"
      ]
     },
     "execution_count": 8,
     "metadata": {},
     "output_type": "execute_result"
    }
   ],
   "source": [
    "#For numerical columns\n",
    "df_data.describe()"
   ]
  },
  {
   "cell_type": "code",
   "execution_count": 14,
   "id": "197c1eb7",
   "metadata": {},
   "outputs": [
    {
     "data": {
      "text/plain": [
       "region     sex     smoker\n",
       "northeast  female  no        132\n",
       "                   yes        29\n",
       "           male    no        125\n",
       "                   yes        38\n",
       "northwest  female  no        135\n",
       "                   yes        29\n",
       "           male    no        132\n",
       "                   yes        29\n",
       "southeast  female  no        139\n",
       "                   yes        36\n",
       "           male    no        134\n",
       "                   yes        55\n",
       "southwest  female  no        141\n",
       "                   yes        21\n",
       "           male    no        126\n",
       "                   yes        37\n",
       "dtype: int64"
      ]
     },
     "execution_count": 14,
     "metadata": {},
     "output_type": "execute_result"
    }
   ],
   "source": [
    "#For categorical columns\n",
    "df_data.groupby(['region','sex','smoker']).size()"
   ]
  },
  {
   "cell_type": "code",
   "execution_count": 18,
   "id": "45ffbef7",
   "metadata": {},
   "outputs": [
    {
     "data": {
      "text/html": [
       "<div>\n",
       "<style scoped>\n",
       "    .dataframe tbody tr th:only-of-type {\n",
       "        vertical-align: middle;\n",
       "    }\n",
       "\n",
       "    .dataframe tbody tr th {\n",
       "        vertical-align: top;\n",
       "    }\n",
       "\n",
       "    .dataframe thead tr th {\n",
       "        text-align: left;\n",
       "    }\n",
       "\n",
       "    .dataframe thead tr:last-of-type th {\n",
       "        text-align: right;\n",
       "    }\n",
       "</style>\n",
       "<table border=\"1\" class=\"dataframe\">\n",
       "  <thead>\n",
       "    <tr>\n",
       "      <th></th>\n",
       "      <th></th>\n",
       "      <th></th>\n",
       "      <th colspan=\"2\" halign=\"left\">age</th>\n",
       "      <th colspan=\"4\" halign=\"left\">bmi</th>\n",
       "      <th colspan=\"3\" halign=\"left\">children</th>\n",
       "      <th colspan=\"5\" halign=\"left\">charges</th>\n",
       "    </tr>\n",
       "    <tr>\n",
       "      <th></th>\n",
       "      <th></th>\n",
       "      <th></th>\n",
       "      <th>mean</th>\n",
       "      <th>median</th>\n",
       "      <th>mean</th>\n",
       "      <th>median</th>\n",
       "      <th>min</th>\n",
       "      <th>max</th>\n",
       "      <th>mean</th>\n",
       "      <th>median</th>\n",
       "      <th>max</th>\n",
       "      <th>mean</th>\n",
       "      <th>median</th>\n",
       "      <th>min</th>\n",
       "      <th>max</th>\n",
       "      <th>count</th>\n",
       "    </tr>\n",
       "    <tr>\n",
       "      <th>region</th>\n",
       "      <th>sex</th>\n",
       "      <th>smoker</th>\n",
       "      <th></th>\n",
       "      <th></th>\n",
       "      <th></th>\n",
       "      <th></th>\n",
       "      <th></th>\n",
       "      <th></th>\n",
       "      <th></th>\n",
       "      <th></th>\n",
       "      <th></th>\n",
       "      <th></th>\n",
       "      <th></th>\n",
       "      <th></th>\n",
       "      <th></th>\n",
       "      <th></th>\n",
       "    </tr>\n",
       "  </thead>\n",
       "  <tbody>\n",
       "    <tr>\n",
       "      <th rowspan=\"4\" valign=\"top\">northeast</th>\n",
       "      <th rowspan=\"2\" valign=\"top\">female</th>\n",
       "      <th>no</th>\n",
       "      <td>39.840909</td>\n",
       "      <td>40.5</td>\n",
       "      <td>29.777462</td>\n",
       "      <td>30.1150</td>\n",
       "      <td>16.815</td>\n",
       "      <td>48.070</td>\n",
       "      <td>0.954545</td>\n",
       "      <td>1.0</td>\n",
       "      <td>4</td>\n",
       "      <td>9640.426984</td>\n",
       "      <td>8681.137100</td>\n",
       "      <td>2196.47320</td>\n",
       "      <td>31620.00106</td>\n",
       "      <td>132</td>\n",
       "    </tr>\n",
       "    <tr>\n",
       "      <th>yes</th>\n",
       "      <td>38.724138</td>\n",
       "      <td>39.0</td>\n",
       "      <td>27.261724</td>\n",
       "      <td>25.2700</td>\n",
       "      <td>17.195</td>\n",
       "      <td>42.750</td>\n",
       "      <td>1.241379</td>\n",
       "      <td>1.0</td>\n",
       "      <td>3</td>\n",
       "      <td>28032.046398</td>\n",
       "      <td>22331.566800</td>\n",
       "      <td>14283.45940</td>\n",
       "      <td>58571.07448</td>\n",
       "      <td>29</td>\n",
       "    </tr>\n",
       "    <tr>\n",
       "      <th rowspan=\"2\" valign=\"top\">male</th>\n",
       "      <th>no</th>\n",
       "      <td>39.216000</td>\n",
       "      <td>40.0</td>\n",
       "      <td>28.861760</td>\n",
       "      <td>28.3100</td>\n",
       "      <td>15.960</td>\n",
       "      <td>42.655</td>\n",
       "      <td>1.144000</td>\n",
       "      <td>1.0</td>\n",
       "      <td>5</td>\n",
       "      <td>8664.042222</td>\n",
       "      <td>8334.457550</td>\n",
       "      <td>1694.79640</td>\n",
       "      <td>32108.66282</td>\n",
       "      <td>125</td>\n",
       "    </tr>\n",
       "    <tr>\n",
       "      <th>yes</th>\n",
       "      <td>37.868421</td>\n",
       "      <td>38.0</td>\n",
       "      <td>29.560000</td>\n",
       "      <td>30.3050</td>\n",
       "      <td>17.290</td>\n",
       "      <td>41.895</td>\n",
       "      <td>0.894737</td>\n",
       "      <td>0.5</td>\n",
       "      <td>3</td>\n",
       "      <td>30926.252583</td>\n",
       "      <td>33993.370025</td>\n",
       "      <td>12829.45510</td>\n",
       "      <td>48549.17835</td>\n",
       "      <td>38</td>\n",
       "    </tr>\n",
       "    <tr>\n",
       "      <th rowspan=\"4\" valign=\"top\">northwest</th>\n",
       "      <th rowspan=\"2\" valign=\"top\">female</th>\n",
       "      <th>no</th>\n",
       "      <td>39.755556</td>\n",
       "      <td>40.0</td>\n",
       "      <td>29.488704</td>\n",
       "      <td>29.7350</td>\n",
       "      <td>18.050</td>\n",
       "      <td>42.940</td>\n",
       "      <td>1.177778</td>\n",
       "      <td>1.0</td>\n",
       "      <td>5</td>\n",
       "      <td>8786.998679</td>\n",
       "      <td>7731.857850</td>\n",
       "      <td>2117.33885</td>\n",
       "      <td>33471.97189</td>\n",
       "      <td>135</td>\n",
       "    </tr>\n",
       "    <tr>\n",
       "      <th>yes</th>\n",
       "      <td>38.827586</td>\n",
       "      <td>40.0</td>\n",
       "      <td>28.296897</td>\n",
       "      <td>28.3100</td>\n",
       "      <td>17.765</td>\n",
       "      <td>38.950</td>\n",
       "      <td>0.827586</td>\n",
       "      <td>0.0</td>\n",
       "      <td>3</td>\n",
       "      <td>29670.824946</td>\n",
       "      <td>28950.469200</td>\n",
       "      <td>14711.74380</td>\n",
       "      <td>55135.40209</td>\n",
       "      <td>29</td>\n",
       "    </tr>\n",
       "    <tr>\n",
       "      <th rowspan=\"2\" valign=\"top\">male</th>\n",
       "      <th>no</th>\n",
       "      <td>38.568182</td>\n",
       "      <td>38.0</td>\n",
       "      <td>28.930379</td>\n",
       "      <td>29.1175</td>\n",
       "      <td>17.385</td>\n",
       "      <td>41.325</td>\n",
       "      <td>1.060606</td>\n",
       "      <td>1.0</td>\n",
       "      <td>4</td>\n",
       "      <td>8320.689321</td>\n",
       "      <td>6687.438925</td>\n",
       "      <td>1621.34020</td>\n",
       "      <td>30284.64294</td>\n",
       "      <td>132</td>\n",
       "    </tr>\n",
       "    <tr>\n",
       "      <th>yes</th>\n",
       "      <td>39.827586</td>\n",
       "      <td>45.0</td>\n",
       "      <td>29.983966</td>\n",
       "      <td>28.5000</td>\n",
       "      <td>22.895</td>\n",
       "      <td>40.565</td>\n",
       "      <td>1.724138</td>\n",
       "      <td>2.0</td>\n",
       "      <td>4</td>\n",
       "      <td>30713.181419</td>\n",
       "      <td>26109.329050</td>\n",
       "      <td>15817.98570</td>\n",
       "      <td>60021.39897</td>\n",
       "      <td>29</td>\n",
       "    </tr>\n",
       "    <tr>\n",
       "      <th rowspan=\"4\" valign=\"top\">southeast</th>\n",
       "      <th rowspan=\"2\" valign=\"top\">female</th>\n",
       "      <th>no</th>\n",
       "      <td>39.071942</td>\n",
       "      <td>39.0</td>\n",
       "      <td>32.780000</td>\n",
       "      <td>32.2300</td>\n",
       "      <td>20.790</td>\n",
       "      <td>46.750</td>\n",
       "      <td>1.079137</td>\n",
       "      <td>1.0</td>\n",
       "      <td>5</td>\n",
       "      <td>8440.205552</td>\n",
       "      <td>7046.722200</td>\n",
       "      <td>1607.51010</td>\n",
       "      <td>36580.28216</td>\n",
       "      <td>139</td>\n",
       "    </tr>\n",
       "    <tr>\n",
       "      <th>yes</th>\n",
       "      <td>39.250000</td>\n",
       "      <td>42.5</td>\n",
       "      <td>32.251389</td>\n",
       "      <td>31.7350</td>\n",
       "      <td>22.220</td>\n",
       "      <td>47.410</td>\n",
       "      <td>0.944444</td>\n",
       "      <td>0.0</td>\n",
       "      <td>3</td>\n",
       "      <td>33034.820716</td>\n",
       "      <td>35017.722850</td>\n",
       "      <td>16577.77950</td>\n",
       "      <td>63770.42801</td>\n",
       "      <td>36</td>\n",
       "    </tr>\n",
       "    <tr>\n",
       "      <th rowspan=\"2\" valign=\"top\">male</th>\n",
       "      <th>no</th>\n",
       "      <td>38.261194</td>\n",
       "      <td>38.5</td>\n",
       "      <td>34.129552</td>\n",
       "      <td>33.8250</td>\n",
       "      <td>20.350</td>\n",
       "      <td>53.130</td>\n",
       "      <td>1.052239</td>\n",
       "      <td>1.0</td>\n",
       "      <td>5</td>\n",
       "      <td>7609.003587</td>\n",
       "      <td>6395.947200</td>\n",
       "      <td>1121.87390</td>\n",
       "      <td>27724.28875</td>\n",
       "      <td>134</td>\n",
       "    </tr>\n",
       "    <tr>\n",
       "      <th>yes</th>\n",
       "      <td>40.054545</td>\n",
       "      <td>41.0</td>\n",
       "      <td>33.650000</td>\n",
       "      <td>35.0900</td>\n",
       "      <td>19.800</td>\n",
       "      <td>52.580</td>\n",
       "      <td>1.036364</td>\n",
       "      <td>1.0</td>\n",
       "      <td>3</td>\n",
       "      <td>36029.839367</td>\n",
       "      <td>38282.749500</td>\n",
       "      <td>17043.34140</td>\n",
       "      <td>62592.87309</td>\n",
       "      <td>55</td>\n",
       "    </tr>\n",
       "    <tr>\n",
       "      <th rowspan=\"4\" valign=\"top\">southwest</th>\n",
       "      <th rowspan=\"2\" valign=\"top\">female</th>\n",
       "      <th>no</th>\n",
       "      <td>40.099291</td>\n",
       "      <td>41.0</td>\n",
       "      <td>30.050355</td>\n",
       "      <td>29.6000</td>\n",
       "      <td>17.400</td>\n",
       "      <td>46.700</td>\n",
       "      <td>1.134752</td>\n",
       "      <td>1.0</td>\n",
       "      <td>5</td>\n",
       "      <td>8234.091260</td>\n",
       "      <td>7348.142000</td>\n",
       "      <td>1727.78500</td>\n",
       "      <td>36910.60803</td>\n",
       "      <td>141</td>\n",
       "    </tr>\n",
       "    <tr>\n",
       "      <th>yes</th>\n",
       "      <td>37.047619</td>\n",
       "      <td>36.0</td>\n",
       "      <td>30.128571</td>\n",
       "      <td>31.3000</td>\n",
       "      <td>18.300</td>\n",
       "      <td>47.600</td>\n",
       "      <td>1.047619</td>\n",
       "      <td>1.0</td>\n",
       "      <td>5</td>\n",
       "      <td>31687.988430</td>\n",
       "      <td>34166.273000</td>\n",
       "      <td>13844.50600</td>\n",
       "      <td>48824.45000</td>\n",
       "      <td>21</td>\n",
       "    </tr>\n",
       "    <tr>\n",
       "      <th rowspan=\"2\" valign=\"top\">male</th>\n",
       "      <th>no</th>\n",
       "      <td>40.277778</td>\n",
       "      <td>42.0</td>\n",
       "      <td>31.019841</td>\n",
       "      <td>30.5000</td>\n",
       "      <td>19.800</td>\n",
       "      <td>45.900</td>\n",
       "      <td>1.119048</td>\n",
       "      <td>1.0</td>\n",
       "      <td>5</td>\n",
       "      <td>7778.905534</td>\n",
       "      <td>7318.960000</td>\n",
       "      <td>1241.56500</td>\n",
       "      <td>27941.28758</td>\n",
       "      <td>126</td>\n",
       "    </tr>\n",
       "    <tr>\n",
       "      <th>yes</th>\n",
       "      <td>35.567568</td>\n",
       "      <td>33.0</td>\n",
       "      <td>31.502703</td>\n",
       "      <td>32.7000</td>\n",
       "      <td>19.300</td>\n",
       "      <td>39.900</td>\n",
       "      <td>1.297297</td>\n",
       "      <td>1.0</td>\n",
       "      <td>4</td>\n",
       "      <td>32598.862854</td>\n",
       "      <td>35585.576000</td>\n",
       "      <td>15820.69900</td>\n",
       "      <td>52590.82939</td>\n",
       "      <td>37</td>\n",
       "    </tr>\n",
       "  </tbody>\n",
       "</table>\n",
       "</div>"
      ],
      "text/plain": [
       "                               age               bmi                           \\\n",
       "                              mean median       mean   median     min     max   \n",
       "region    sex    smoker                                                         \n",
       "northeast female no      39.840909   40.5  29.777462  30.1150  16.815  48.070   \n",
       "                 yes     38.724138   39.0  27.261724  25.2700  17.195  42.750   \n",
       "          male   no      39.216000   40.0  28.861760  28.3100  15.960  42.655   \n",
       "                 yes     37.868421   38.0  29.560000  30.3050  17.290  41.895   \n",
       "northwest female no      39.755556   40.0  29.488704  29.7350  18.050  42.940   \n",
       "                 yes     38.827586   40.0  28.296897  28.3100  17.765  38.950   \n",
       "          male   no      38.568182   38.0  28.930379  29.1175  17.385  41.325   \n",
       "                 yes     39.827586   45.0  29.983966  28.5000  22.895  40.565   \n",
       "southeast female no      39.071942   39.0  32.780000  32.2300  20.790  46.750   \n",
       "                 yes     39.250000   42.5  32.251389  31.7350  22.220  47.410   \n",
       "          male   no      38.261194   38.5  34.129552  33.8250  20.350  53.130   \n",
       "                 yes     40.054545   41.0  33.650000  35.0900  19.800  52.580   \n",
       "southwest female no      40.099291   41.0  30.050355  29.6000  17.400  46.700   \n",
       "                 yes     37.047619   36.0  30.128571  31.3000  18.300  47.600   \n",
       "          male   no      40.277778   42.0  31.019841  30.5000  19.800  45.900   \n",
       "                 yes     35.567568   33.0  31.502703  32.7000  19.300  39.900   \n",
       "\n",
       "                         children                  charges                \\\n",
       "                             mean median max          mean        median   \n",
       "region    sex    smoker                                                    \n",
       "northeast female no      0.954545    1.0   4   9640.426984   8681.137100   \n",
       "                 yes     1.241379    1.0   3  28032.046398  22331.566800   \n",
       "          male   no      1.144000    1.0   5   8664.042222   8334.457550   \n",
       "                 yes     0.894737    0.5   3  30926.252583  33993.370025   \n",
       "northwest female no      1.177778    1.0   5   8786.998679   7731.857850   \n",
       "                 yes     0.827586    0.0   3  29670.824946  28950.469200   \n",
       "          male   no      1.060606    1.0   4   8320.689321   6687.438925   \n",
       "                 yes     1.724138    2.0   4  30713.181419  26109.329050   \n",
       "southeast female no      1.079137    1.0   5   8440.205552   7046.722200   \n",
       "                 yes     0.944444    0.0   3  33034.820716  35017.722850   \n",
       "          male   no      1.052239    1.0   5   7609.003587   6395.947200   \n",
       "                 yes     1.036364    1.0   3  36029.839367  38282.749500   \n",
       "southwest female no      1.134752    1.0   5   8234.091260   7348.142000   \n",
       "                 yes     1.047619    1.0   5  31687.988430  34166.273000   \n",
       "          male   no      1.119048    1.0   5   7778.905534   7318.960000   \n",
       "                 yes     1.297297    1.0   4  32598.862854  35585.576000   \n",
       "\n",
       "                                                         \n",
       "                                 min          max count  \n",
       "region    sex    smoker                                  \n",
       "northeast female no       2196.47320  31620.00106   132  \n",
       "                 yes     14283.45940  58571.07448    29  \n",
       "          male   no       1694.79640  32108.66282   125  \n",
       "                 yes     12829.45510  48549.17835    38  \n",
       "northwest female no       2117.33885  33471.97189   135  \n",
       "                 yes     14711.74380  55135.40209    29  \n",
       "          male   no       1621.34020  30284.64294   132  \n",
       "                 yes     15817.98570  60021.39897    29  \n",
       "southeast female no       1607.51010  36580.28216   139  \n",
       "                 yes     16577.77950  63770.42801    36  \n",
       "          male   no       1121.87390  27724.28875   134  \n",
       "                 yes     17043.34140  62592.87309    55  \n",
       "southwest female no       1727.78500  36910.60803   141  \n",
       "                 yes     13844.50600  48824.45000    21  \n",
       "          male   no       1241.56500  27941.28758   126  \n",
       "                 yes     15820.69900  52590.82939    37  "
      ]
     },
     "execution_count": 18,
     "metadata": {},
     "output_type": "execute_result"
    }
   ],
   "source": [
    "(df_data.groupby(['region','sex','smoker'])\n",
    ".agg({\n",
    "'age': ['mean', 'median'], \n",
    "'bmi': ['mean','median', 'min', 'max'],\n",
    "'children': ['mean','median', 'max'],\n",
    "'charges': ['mean','median', 'min', 'max', 'count']\n",
    " }))"
   ]
  },
  {
   "cell_type": "markdown",
   "id": "a9ef2b84",
   "metadata": {},
   "source": [
    "### Univariate analysis\n",
    "Plotting distributions to see how frequently each value occurs"
   ]
  },
  {
   "cell_type": "code",
   "execution_count": 21,
   "id": "25371310",
   "metadata": {},
   "outputs": [],
   "source": [
    "# Creating a function which can be resused\n",
    "def show_distribution(var_data): \n",
    "    # Get statistics \n",
    "    min_val = var_data.min() \n",
    "    max_val = var_data.max() \n",
    "    mean_val = var_data.mean() \n",
    "    med_val = var_data.median() \n",
    "    mod_val = var_data.mode()[0] \n",
    "    print('Minimum:{:.2f}\\nMean:{:.2f}\\nMedian:{:.2f}\\nMode:{:.2f}\\nMaximum:{:.2f}\\n'.format(min_val, mean_val, med_val, mod_val, \n",
    "    max_val)) \n",
    "\n",
    "    # Create a figure for 2 subplots (2 rows, 1 column) \n",
    "    fig, ax = plt.subplots(2, 1, figsize = (10,4)) \n",
    "\n",
    "    # Plot the histogram    \n",
    "    ax[0].hist(var_data) \n",
    "    ax[0].set_ylabel('Frequency') \n",
    "\n",
    "    # Add lines for the mean, median, and mode \n",
    "    ax[0].axvline(x=min_val, color = 'gray', linestyle='dashed', linewidth = 2) \n",
    "    ax[0].axvline(x=mean_val, color = 'cyan', linestyle='dashed', linewidth = 2) \n",
    "    ax[0].axvline(x=med_val, color = 'red', linestyle='dashed', linewidth = 2) \n",
    "    ax[0].axvline(x=mod_val, color = 'yellow', linestyle='dashed', linewidth = 2) \n",
    "    ax[0].axvline(x=max_val, color = 'gray', linestyle='dashed', linewidth = 2) \n",
    "\n",
    "    # Plot the boxplot    \n",
    "    ax[1].boxplot(var_data, vert=False) \n",
    "    ax[1].set_xlabel('Value') \n",
    "\n",
    "    # Add a title to the Figure \n",
    "    fig.suptitle('Data Distribution') \n",
    "\n",
    "    # Show the figure \n",
    "    fig.show() "
   ]
  },
  {
   "cell_type": "code",
   "execution_count": 22,
   "id": "d974d593",
   "metadata": {},
   "outputs": [
    {
     "name": "stdout",
     "output_type": "stream",
     "text": [
      "Minimum:18.00\n",
      "Mean:39.21\n",
      "Median:39.00\n",
      "Mode:18.00\n",
      "Maximum:64.00\n",
      "\n"
     ]
    },
    {
     "name": "stderr",
     "output_type": "stream",
     "text": [
      "<ipython-input-21-a9308749b989>:34: UserWarning: Matplotlib is currently using module://ipykernel.pylab.backend_inline, which is a non-GUI backend, so cannot show the figure.\n",
      "  fig.show()\n"
     ]
    },
    {
     "data": {
      "image/png": "[encoded data removed]",
      "text/plain": [
       "<Figure size 720x288 with 2 Axes>"
      ]
     },
     "metadata": {
      "needs_background": "light"
     },
     "output_type": "display_data"
    }
   ],
   "source": [
    "# Get the variable to examine \n",
    "col = df_data['age'] \n",
    "# Call the function \n",
    "show_distribution(col) "
   ]
  },
  {
   "cell_type": "code",
   "execution_count": 23,
   "id": "1126989d",
   "metadata": {},
   "outputs": [
    {
     "name": "stdout",
     "output_type": "stream",
     "text": [
      "Minimum:15.96\n",
      "Mean:30.66\n",
      "Median:30.40\n",
      "Mode:32.30\n",
      "Maximum:53.13\n",
      "\n"
     ]
    },
    {
     "name": "stderr",
     "output_type": "stream",
     "text": [
      "<ipython-input-21-a9308749b989>:34: UserWarning: Matplotlib is currently using module://ipykernel.pylab.backend_inline, which is a non-GUI backend, so cannot show the figure.\n",
      "  fig.show()\n"
     ]
    },
    {
     "data": {
      "image/png": "[encoded data removed]",
      "text/plain": [
       "<Figure size 720x288 with 2 Axes>"
      ]
     },
     "metadata": {
      "needs_background": "light"
     },
     "output_type": "display_data"
    }
   ],
   "source": [
    "# Get the variable to examine \n",
    "col = df_data['bmi'] \n",
    "# Call the function \n",
    "show_distribution(col) "
   ]
  },
  {
   "cell_type": "code",
   "execution_count": 25,
   "id": "d4699865",
   "metadata": {},
   "outputs": [
    {
     "name": "stdout",
     "output_type": "stream",
     "text": [
      "Minimum:1121.87\n",
      "Mean:13270.42\n",
      "Median:9382.03\n",
      "Mode:1639.56\n",
      "Maximum:63770.43\n",
      "\n"
     ]
    },
    {
     "name": "stderr",
     "output_type": "stream",
     "text": [
      "<ipython-input-21-a9308749b989>:34: UserWarning: Matplotlib is currently using module://ipykernel.pylab.backend_inline, which is a non-GUI backend, so cannot show the figure.\n",
      "  fig.show()\n"
     ]
    },
    {
     "data": {
      "image/png": "[encoded data removed]",
      "text/plain": [
       "<Figure size 720x288 with 2 Axes>"
      ]
     },
     "metadata": {
      "needs_background": "light"
     },
     "output_type": "display_data"
    }
   ],
   "source": [
    "# Get the variable to examine \n",
    "col = df_data['charges'] \n",
    "# Call the function \n",
    "show_distribution(col) "
   ]
  },
  {
   "cell_type": "markdown",
   "id": "297afd87",
   "metadata": {},
   "source": [
    "### Bivariate analysis\n",
    "Comapring variables to identify apparent relations"
   ]
  },
  {
   "cell_type": "code",
   "execution_count": 26,
   "id": "88a71624",
   "metadata": {},
   "outputs": [
    {
     "data": {
      "text/plain": [
       "<AxesSubplot:title={'center':'charges'}, xlabel='region'>"
      ]
     },
     "execution_count": 26,
     "metadata": {},
     "output_type": "execute_result"
    },
    {
     "data": {
      "image/png": "[encoded data removed]",
      "text/plain": [
       "<Figure size 576x360 with 1 Axes>"
      ]
     },
     "metadata": {
      "needs_background": "light"
     },
     "output_type": "display_data"
    }
   ],
   "source": [
    "df_data.boxplot(column='charges',by='region',figsize=(8,5))"
   ]
  },
  {
   "cell_type": "code",
   "execution_count": 27,
   "id": "1ece6238",
   "metadata": {},
   "outputs": [
    {
     "data": {
      "text/plain": [
       "<AxesSubplot:title={'center':'charges'}, xlabel='sex'>"
      ]
     },
     "execution_count": 27,
     "metadata": {},
     "output_type": "execute_result"
    },
    {
     "data": {
      "image/png": "[encoded data removed]",
      "text/plain": [
       "<Figure size 576x360 with 1 Axes>"
      ]
     },
     "metadata": {
      "needs_background": "light"
     },
     "output_type": "display_data"
    }
   ],
   "source": [
    "df_data.boxplot(column='charges',by='sex',figsize=(8,5))"
   ]
  },
  {
   "cell_type": "code",
   "execution_count": 28,
   "id": "25c488cc",
   "metadata": {},
   "outputs": [
    {
     "data": {
      "text/plain": [
       "<AxesSubplot:title={'center':'charges'}, xlabel='smoker'>"
      ]
     },
     "execution_count": 28,
     "metadata": {},
     "output_type": "execute_result"
    },
    {
     "data": {
      "image/png": "[encoded data removed]",
      "text/plain": [
       "<Figure size 576x360 with 1 Axes>"
      ]
     },
     "metadata": {
      "needs_background": "light"
     },
     "output_type": "display_data"
    }
   ],
   "source": [
    "df_data.boxplot(column='charges',by='smoker',figsize=(8,5))"
   ]
  },
  {
   "cell_type": "code",
   "execution_count": 29,
   "id": "afe76452",
   "metadata": {},
   "outputs": [
    {
     "data": {
      "text/plain": [
       "<AxesSubplot:title={'center':'charges'}, xlabel='children'>"
      ]
     },
     "execution_count": 29,
     "metadata": {},
     "output_type": "execute_result"
    },
    {
     "data": {
      "image/png": "[encoded data removed]",
      "text/plain": [
       "<Figure size 576x360 with 1 Axes>"
      ]
     },
     "metadata": {
      "needs_background": "light"
     },
     "output_type": "display_data"
    }
   ],
   "source": [
    "df_data.boxplot(column='charges',by='children',figsize=(8,5))"
   ]
  }
 ],
 "metadata": {
  "kernelspec": {
   "display_name": "Python 3",
   "language": "python",
   "name": "python3"
  },
  "language_info": {
   "codemirror_mode": {
    "name": "ipython",
    "version": 3
   },
   "file_extension": ".py",
   "mimetype": "text/x-python",
   "name": "python",
   "nbconvert_exporter": "python",
   "pygments_lexer": "ipython3",
   "version": "3.8.8"
  }
 },
 "nbformat": 4,
 "nbformat_minor": 5
}
